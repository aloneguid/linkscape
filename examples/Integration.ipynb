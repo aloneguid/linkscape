{
 "cells": [
  {
   "metadata": {},
   "cell_type": "markdown",
   "source": "# Integration",
   "id": "ad8a2fedbbf6cca2"
  },
  {
   "metadata": {
    "ExecuteTime": {
     "end_time": "2024-05-30T11:12:11.891222Z",
     "start_time": "2024-05-30T11:12:11.867461Z"
    }
   },
   "cell_type": "code",
   "source": "from linkscape.network import Network",
   "id": "b7a3744d1d6383c6",
   "outputs": [],
   "execution_count": 1
  },
  {
   "metadata": {},
   "cell_type": "markdown",
   "source": "## Saving to disk",
   "id": "fdb1559472980897"
  },
  {
   "metadata": {
    "ExecuteTime": {
     "end_time": "2024-05-30T11:12:11.901183Z",
     "start_time": "2024-05-30T11:12:11.891222Z"
    }
   },
   "cell_type": "code",
   "source": [
    "net = Network(800, 600)\n",
    "net.node(\"1\")\n",
    "net.save(\"out.html\")"
   ],
   "id": "7426a82b6bdb28e0",
   "outputs": [],
   "execution_count": 2
  }
 ],
 "metadata": {
  "kernelspec": {
   "display_name": "Python 3",
   "language": "python",
   "name": "python3"
  },
  "language_info": {
   "codemirror_mode": {
    "name": "ipython",
    "version": 2
   },
   "file_extension": ".py",
   "mimetype": "text/x-python",
   "name": "python",
   "nbconvert_exporter": "python",
   "pygments_lexer": "ipython2",
   "version": "2.7.6"
  }
 },
 "nbformat": 4,
 "nbformat_minor": 5
}
