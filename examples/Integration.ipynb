{
 "cells": [
  {
   "metadata": {},
   "cell_type": "markdown",
   "source": "# Integration",
   "id": "ad8a2fedbbf6cca2"
  },
  {
   "metadata": {},
   "cell_type": "code",
   "source": "from linkscape.network import Network",
   "id": "b7a3744d1d6383c6",
   "outputs": [],
   "execution_count": null
  },
  {
   "metadata": {},
   "cell_type": "markdown",
   "source": "## Saving to disk",
   "id": "fdb1559472980897"
  },
  {
   "metadata": {},
   "cell_type": "code",
   "source": [
    "net = Network(800, 600)\n",
    "net.node(\"1\")\n",
    "net.save(\"out.html\")"
   ],
   "id": "7426a82b6bdb28e0",
   "outputs": [],
   "execution_count": null
  }
 ],
 "metadata": {
  "kernelspec": {
   "display_name": "Python 3",
   "language": "python",
   "name": "python3"
  },
  "language_info": {
   "codemirror_mode": {
    "name": "ipython",
    "version": 2
   },
   "file_extension": ".py",
   "mimetype": "text/x-python",
   "name": "python",
   "nbconvert_exporter": "python",
   "pygments_lexer": "ipython2",
   "version": "2.7.6"
  }
 },
 "nbformat": 4,
 "nbformat_minor": 5
}
